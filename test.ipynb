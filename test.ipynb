{
 "cells": [
  {
   "cell_type": "code",
   "execution_count": 45,
   "metadata": {},
   "outputs": [
    {
     "name": "stdout",
     "output_type": "stream",
     "text": [
      "[[[[6 1 8]\n",
      "   [8 3 2]]\n",
      "\n",
      "  [[1 4 4]\n",
      "   [1 3 9]]]\n",
      "\n",
      "\n",
      " [[[4 2 9]\n",
      "   [1 6 2]]\n",
      "\n",
      "  [[9 2 7]\n",
      "   [2 4 1]]]]\n"
     ]
    }
   ],
   "source": [
    "import numpy as np\n",
    "\n",
    "A = np.random.randint(1,10,(2,2,2,3))\n",
    "print(A)\n",
    "# From print output looks like columns are the RGB values \n",
    "\n",
    "B = [2,2,2]"
   ]
  },
  {
   "cell_type": "code",
   "execution_count": 46,
   "metadata": {},
   "outputs": [
    {
     "name": "stdout",
     "output_type": "stream",
     "text": [
      "(2, 2, 2)\n",
      "[[[16  4]\n",
      "  [ 8 18]]\n",
      "\n",
      " [[18  4]\n",
      "  [14  2]]]\n"
     ]
    }
   ],
   "source": [
    "for i in range(3):\n",
    "    C = np.dot(A[:,:,:,i],B[i])\n",
    "print(C.shape)\n",
    "\n",
    "print(C)"
   ]
  },
  {
   "cell_type": "code",
   "execution_count": 51,
   "metadata": {},
   "outputs": [
    {
     "name": "stdout",
     "output_type": "stream",
     "text": [
      "[[[12 16]\n",
      "  [ 2  2]]\n",
      "\n",
      " [[ 8  2]\n",
      "  [18  4]]]\n",
      "(2, 2, 2)\n"
     ]
    }
   ],
   "source": [
    "# for i in range(3):\n",
    "D = A[:,:,:,0]*2# + A[:,:,:,1] * B[1] + A[:,:,:,2] * B[2] \n",
    "print(D)\n",
    "print(D.shape)"
   ]
  },
  {
   "cell_type": "code",
   "execution_count": 54,
   "metadata": {},
   "outputs": [
    {
     "name": "stdout",
     "output_type": "stream",
     "text": [
      "[[2 4]\n",
      " [6 8]]\n",
      "(2, 2)\n",
      "(2, 2)\n"
     ]
    }
   ],
   "source": [
    "# Extra test\n",
    "import numpy.matlib \n",
    "import numpy as np \n",
    "\n",
    "a = np.array([[1,2],[3,4]]) \n",
    "b = np.array([[11,12],[13,14]]) \n",
    "c = np.dot(a,b)\n",
    "\n",
    "print(a*2)\n",
    "\n",
    "print(a.shape)\n",
    "\n",
    "print(c.shape)\n"
   ]
  },
  {
   "cell_type": "code",
   "execution_count": null,
   "metadata": {},
   "outputs": [],
   "source": []
  }
 ],
 "metadata": {
  "kernelspec": {
   "display_name": "tfg-1.15",
   "language": "python",
   "name": "tfg-1.15"
  },
  "language_info": {
   "codemirror_mode": {
    "name": "ipython",
    "version": 3
   },
   "file_extension": ".py",
   "mimetype": "text/x-python",
   "name": "python",
   "nbconvert_exporter": "python",
   "pygments_lexer": "ipython3",
   "version": "3.7.7"
  }
 },
 "nbformat": 4,
 "nbformat_minor": 4
}
